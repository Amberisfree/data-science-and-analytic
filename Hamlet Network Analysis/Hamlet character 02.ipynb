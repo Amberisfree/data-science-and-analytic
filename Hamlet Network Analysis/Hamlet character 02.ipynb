{
 "cells": [
  {
   "cell_type": "markdown",
   "id": "1411083a",
   "metadata": {
    "tags": []
   },
   "source": [
    "--------------------\n",
    "## **Context**\n",
    "--------------------\n",
    "\n",
    "Hamlet is a classic written by Hamlet...\n",
    "In this case study, **we will analyze the co-occurrence network of the characters in Shakespeare's Hamlet** \n",
    "\n",
    "The dataset is publicly available from Gutenburg Project\n",
    "\n",
    "**Note: Here, two characters are considered to co-occur if their names appear in the vicinity of 15 words from one another in the books**.\n",
    "\n",
    "-------------------------\n",
    "## **Objectives:** \n",
    "-------------------------\n",
    "- Load all the raw datasets and perform descriptive analysis\n",
    "- Encode lines and characters\n",
    "- Calculate co-occurrence between two characters within each act\n",
    "- Build Relationship table in each act\n",
    "- Create simple Network Graphs using NetworkX\n"
   ]
  },
  {
   "cell_type": "code",
   "execution_count": null,
   "id": "93d61132",
   "metadata": {},
   "outputs": [],
   "source": []
  },
  {
   "cell_type": "code",
   "execution_count": 3,
   "id": "cb087a97",
   "metadata": {},
   "outputs": [],
   "source": [
    "import pandas as pd\n",
    "import networkx as nx\n",
    "import numpy as np\n",
    "import seaborn as sns\n",
    "import matplotlib.pyplot as plt\n",
    "from pathlib import Path  "
   ]
  },
  {
   "cell_type": "markdown",
   "id": "767e8f82-00af-4843-bafc-ac77061f5530",
   "metadata": {},
   "source": [
    "# Summary"
   ]
  },
  {
   "cell_type": "markdown",
   "id": "d6b1352c-c18d-457e-90b0-74d5a51ba054",
   "metadata": {},
   "source": [
    "#### characters"
   ]
  },
  {
   "cell_type": "code",
   "execution_count": 5,
   "id": "2be2ef9e-aa86-4e2b-b288-dee9cf74fe56",
   "metadata": {},
   "outputs": [
    {
     "data": {
      "text/html": [
       "<div>\n",
       "<style scoped>\n",
       "    .dataframe tbody tr th:only-of-type {\n",
       "        vertical-align: middle;\n",
       "    }\n",
       "\n",
       "    .dataframe tbody tr th {\n",
       "        vertical-align: top;\n",
       "    }\n",
       "\n",
       "    .dataframe thead th {\n",
       "        text-align: right;\n",
       "    }\n",
       "</style>\n",
       "<table border=\"1\" class=\"dataframe\">\n",
       "  <thead>\n",
       "    <tr style=\"text-align: right;\">\n",
       "      <th></th>\n",
       "      <th>Alias</th>\n",
       "      <th>Player</th>\n",
       "    </tr>\n",
       "  </thead>\n",
       "  <tbody>\n",
       "    <tr>\n",
       "      <th>0</th>\n",
       "      <td>King.</td>\n",
       "      <td>Claudius</td>\n",
       "    </tr>\n",
       "    <tr>\n",
       "      <th>1</th>\n",
       "      <td>Mar.</td>\n",
       "      <td>Marcellus</td>\n",
       "    </tr>\n",
       "    <tr>\n",
       "      <th>2</th>\n",
       "      <td>Ham.</td>\n",
       "      <td>Hamlet</td>\n",
       "    </tr>\n",
       "    <tr>\n",
       "      <th>3</th>\n",
       "      <td>Pol.</td>\n",
       "      <td>Polonius</td>\n",
       "    </tr>\n",
       "    <tr>\n",
       "      <th>4</th>\n",
       "      <td>Hor.</td>\n",
       "      <td>Horatio</td>\n",
       "    </tr>\n",
       "  </tbody>\n",
       "</table>\n",
       "</div>"
      ],
      "text/plain": [
       "   Alias       Player\n",
       "0  King.     Claudius\n",
       "1   Mar.    Marcellus\n",
       "2   Ham.       Hamlet\n",
       "3   Pol.     Polonius\n",
       "4   Hor.      Horatio"
      ]
     },
     "execution_count": 5,
     "metadata": {},
     "output_type": "execute_result"
    }
   ],
   "source": [
    "filepath = Path('folder/characters_df.csv') \n",
    "characters=pd.read_csv(filepath)\n",
    "characters.drop(columns=[\"Unnamed: 0\"],inplace=True)\n",
    "characters.head()"
   ]
  },
  {
   "cell_type": "markdown",
   "id": "0cfc7287-7c34-4e9f-8228-a5e4e1223e37",
   "metadata": {},
   "source": [
    "#### character_line"
   ]
  },
  {
   "cell_type": "code",
   "execution_count": 6,
   "id": "d46dc745-0a0b-47e6-8f75-5d4e013690da",
   "metadata": {},
   "outputs": [
    {
     "data": {
      "text/html": [
       "<div>\n",
       "<style scoped>\n",
       "    .dataframe tbody tr th:only-of-type {\n",
       "        vertical-align: middle;\n",
       "    }\n",
       "\n",
       "    .dataframe tbody tr th {\n",
       "        vertical-align: top;\n",
       "    }\n",
       "\n",
       "    .dataframe thead th {\n",
       "        text-align: right;\n",
       "    }\n",
       "</style>\n",
       "<table border=\"1\" class=\"dataframe\">\n",
       "  <thead>\n",
       "    <tr style=\"text-align: right;\">\n",
       "      <th></th>\n",
       "      <th>Unnamed: 0</th>\n",
       "      <th>Alias</th>\n",
       "      <th>Player</th>\n",
       "      <th>lines</th>\n",
       "    </tr>\n",
       "  </thead>\n",
       "  <tbody>\n",
       "    <tr>\n",
       "      <th>0</th>\n",
       "      <td>2</td>\n",
       "      <td>Ham.</td>\n",
       "      <td>Hamlet</td>\n",
       "      <td>358</td>\n",
       "    </tr>\n",
       "    <tr>\n",
       "      <th>1</th>\n",
       "      <td>0</td>\n",
       "      <td>King.</td>\n",
       "      <td>Claudius</td>\n",
       "      <td>116</td>\n",
       "    </tr>\n",
       "    <tr>\n",
       "      <th>2</th>\n",
       "      <td>4</td>\n",
       "      <td>Hor.</td>\n",
       "      <td>Horatio</td>\n",
       "      <td>108</td>\n",
       "    </tr>\n",
       "    <tr>\n",
       "      <th>3</th>\n",
       "      <td>3</td>\n",
       "      <td>Pol.</td>\n",
       "      <td>Polonius</td>\n",
       "      <td>86</td>\n",
       "    </tr>\n",
       "    <tr>\n",
       "      <th>4</th>\n",
       "      <td>23</td>\n",
       "      <td>Queen.</td>\n",
       "      <td>Getrude</td>\n",
       "      <td>79</td>\n",
       "    </tr>\n",
       "  </tbody>\n",
       "</table>\n",
       "</div>"
      ],
      "text/plain": [
       "   Unnamed: 0   Alias      Player  lines\n",
       "0           2    Ham.      Hamlet    358\n",
       "1           0   King.    Claudius    116\n",
       "2           4    Hor.     Horatio    108\n",
       "3           3    Pol.    Polonius     86\n",
       "4          23  Queen.     Getrude     79"
      ]
     },
     "execution_count": 6,
     "metadata": {},
     "output_type": "execute_result"
    }
   ],
   "source": [
    "filepath = Path('folder/character_line_df.csv') \n",
    "character_line=pd.read_csv(filepath)\n",
    "character_line.head()"
   ]
  },
  {
   "cell_type": "markdown",
   "id": "808d8044-e762-4f42-8bd6-ffc45aae3c6d",
   "metadata": {},
   "source": [
    "#### acts"
   ]
  },
  {
   "cell_type": "code",
   "execution_count": 7,
   "id": "8f2d5892-1ac8-46d3-a77d-48c33004810a",
   "metadata": {},
   "outputs": [
    {
     "data": {
      "text/html": [
       "<div>\n",
       "<style scoped>\n",
       "    .dataframe tbody tr th:only-of-type {\n",
       "        vertical-align: middle;\n",
       "    }\n",
       "\n",
       "    .dataframe tbody tr th {\n",
       "        vertical-align: top;\n",
       "    }\n",
       "\n",
       "    .dataframe thead th {\n",
       "        text-align: right;\n",
       "    }\n",
       "</style>\n",
       "<table border=\"1\" class=\"dataframe\">\n",
       "  <thead>\n",
       "    <tr style=\"text-align: right;\">\n",
       "      <th></th>\n",
       "      <th>player_lines</th>\n",
       "      <th>Act No.</th>\n",
       "    </tr>\n",
       "  </thead>\n",
       "  <tbody>\n",
       "    <tr>\n",
       "      <th>4408</th>\n",
       "      <td>Exeunt marching; after the which a...</td>\n",
       "      <td>ACT V.</td>\n",
       "    </tr>\n",
       "    <tr>\n",
       "      <th>4409</th>\n",
       "      <td>...</td>\n",
       "      <td>ACT V.</td>\n",
       "    </tr>\n",
       "    <tr>\n",
       "      <th>4410</th>\n",
       "      <td>\\n</td>\n",
       "      <td>ACT V.</td>\n",
       "    </tr>\n",
       "    <tr>\n",
       "      <th>4411</th>\n",
       "      <td>\\n</td>\n",
       "      <td>ACT V.</td>\n",
       "    </tr>\n",
       "    <tr>\n",
       "      <th>4412</th>\n",
       "      <td>THE END\\n</td>\n",
       "      <td>ACT V.</td>\n",
       "    </tr>\n",
       "  </tbody>\n",
       "</table>\n",
       "</div>"
      ],
      "text/plain": [
       "                                           player_lines Act No.\n",
       "4408              Exeunt marching; after the which a...  ACT V.\n",
       "4409                                                ...  ACT V.\n",
       "4410                                                 \\n  ACT V.\n",
       "4411                                                 \\n  ACT V.\n",
       "4412                                          THE END\\n  ACT V."
      ]
     },
     "execution_count": 7,
     "metadata": {},
     "output_type": "execute_result"
    }
   ],
   "source": [
    "filepath = Path('folder/acts_df.csv') \n",
    "acts=pd.read_csv(filepath)\n",
    "acts.drop(columns=[\"Unnamed: 0\"],inplace=True)\n",
    "acts.tail()"
   ]
  },
  {
   "cell_type": "markdown",
   "id": "acad138a-1ceb-4c4e-a5f7-97a63d7f3586",
   "metadata": {},
   "source": [
    "#### player_line_act"
   ]
  },
  {
   "cell_type": "code",
   "execution_count": 8,
   "id": "f3cadfac-48dc-43fa-88a9-043cf081f84e",
   "metadata": {},
   "outputs": [
    {
     "data": {
      "text/html": [
       "<div>\n",
       "<style scoped>\n",
       "    .dataframe tbody tr th:only-of-type {\n",
       "        vertical-align: middle;\n",
       "    }\n",
       "\n",
       "    .dataframe tbody tr th {\n",
       "        vertical-align: top;\n",
       "    }\n",
       "\n",
       "    .dataframe thead th {\n",
       "        text-align: right;\n",
       "    }\n",
       "</style>\n",
       "<table border=\"1\" class=\"dataframe\">\n",
       "  <thead>\n",
       "    <tr style=\"text-align: right;\">\n",
       "      <th></th>\n",
       "      <th>Player</th>\n",
       "      <th>Alias</th>\n",
       "      <th>Act I.</th>\n",
       "      <th>Act II.</th>\n",
       "      <th>Act III.</th>\n",
       "      <th>Act VI.</th>\n",
       "      <th>Act V</th>\n",
       "    </tr>\n",
       "  </thead>\n",
       "  <tbody>\n",
       "    <tr>\n",
       "      <th>0</th>\n",
       "      <td>Claudius</td>\n",
       "      <td>King.</td>\n",
       "      <td>7</td>\n",
       "      <td>16</td>\n",
       "      <td>21</td>\n",
       "      <td>56</td>\n",
       "      <td>16</td>\n",
       "    </tr>\n",
       "    <tr>\n",
       "      <th>1</th>\n",
       "      <td>Marcellus</td>\n",
       "      <td>Mar.</td>\n",
       "      <td>32</td>\n",
       "      <td>0</td>\n",
       "      <td>0</td>\n",
       "      <td>0</td>\n",
       "      <td>0</td>\n",
       "    </tr>\n",
       "    <tr>\n",
       "      <th>2</th>\n",
       "      <td>Hamlet</td>\n",
       "      <td>Ham.</td>\n",
       "      <td>72</td>\n",
       "      <td>59</td>\n",
       "      <td>105</td>\n",
       "      <td>26</td>\n",
       "      <td>96</td>\n",
       "    </tr>\n",
       "    <tr>\n",
       "      <th>3</th>\n",
       "      <td>Polonius</td>\n",
       "      <td>Pol.</td>\n",
       "      <td>9</td>\n",
       "      <td>59</td>\n",
       "      <td>18</td>\n",
       "      <td>0</td>\n",
       "      <td>0</td>\n",
       "    </tr>\n",
       "    <tr>\n",
       "      <th>4</th>\n",
       "      <td>Horatio</td>\n",
       "      <td>Hor.</td>\n",
       "      <td>63</td>\n",
       "      <td>0</td>\n",
       "      <td>7</td>\n",
       "      <td>5</td>\n",
       "      <td>33</td>\n",
       "    </tr>\n",
       "  </tbody>\n",
       "</table>\n",
       "</div>"
      ],
      "text/plain": [
       "        Player  Alias  Act I.  Act II.  Act III.  Act VI.  Act V\n",
       "0     Claudius  King.       7       16        21       56     16\n",
       "1    Marcellus   Mar.      32        0         0        0      0\n",
       "2       Hamlet   Ham.      72       59       105       26     96\n",
       "3     Polonius   Pol.       9       59        18        0      0\n",
       "4      Horatio   Hor.      63        0         7        5     33"
      ]
     },
     "execution_count": 8,
     "metadata": {},
     "output_type": "execute_result"
    }
   ],
   "source": [
    "filepath = Path('folder/line_act_df.csv') \n",
    "player_line_act=pd.read_csv(filepath)\n",
    "player_line_act.drop(columns=[\"Unnamed: 0\"],inplace=True)\n",
    "player_line_act.head()"
   ]
  },
  {
   "cell_type": "markdown",
   "id": "6c01c8d4-9071-43fc-b39f-b3746078219e",
   "metadata": {},
   "source": [
    "# Relationship Table"
   ]
  },
  {
   "cell_type": "code",
   "execution_count": 9,
   "id": "b732346a-2ab3-463f-85c5-e5bed7b9c613",
   "metadata": {},
   "outputs": [],
   "source": [
    "df=pd.DataFrame()\n",
    "\n"
   ]
  },
  {
   "cell_type": "code",
   "execution_count": 10,
   "id": "bffb4382-f3f8-44c8-b972-4120ecc6c5ae",
   "metadata": {},
   "outputs": [
    {
     "data": {
      "text/html": [
       "<div>\n",
       "<style scoped>\n",
       "    .dataframe tbody tr th:only-of-type {\n",
       "        vertical-align: middle;\n",
       "    }\n",
       "\n",
       "    .dataframe tbody tr th {\n",
       "        vertical-align: top;\n",
       "    }\n",
       "\n",
       "    .dataframe thead th {\n",
       "        text-align: right;\n",
       "    }\n",
       "</style>\n",
       "<table border=\"1\" class=\"dataframe\">\n",
       "  <thead>\n",
       "    <tr style=\"text-align: right;\">\n",
       "      <th></th>\n",
       "      <th>player_lines</th>\n",
       "      <th>Act No.</th>\n",
       "    </tr>\n",
       "  </thead>\n",
       "  <tbody>\n",
       "    <tr>\n",
       "      <th>0</th>\n",
       "      <td>ACT I. Scene I.\\n</td>\n",
       "      <td>ACT I.</td>\n",
       "    </tr>\n",
       "    <tr>\n",
       "      <th>1</th>\n",
       "      <td>Elsinore. A platform before the Castle.\\n</td>\n",
       "      <td>ACT I.</td>\n",
       "    </tr>\n",
       "    <tr>\n",
       "      <th>2</th>\n",
       "      <td>\\n</td>\n",
       "      <td>ACT I.</td>\n",
       "    </tr>\n",
       "    <tr>\n",
       "      <th>3</th>\n",
       "      <td>Enter two Sentinels-[first,] Francisco, [who p...</td>\n",
       "      <td>ACT I.</td>\n",
       "    </tr>\n",
       "    <tr>\n",
       "      <th>4</th>\n",
       "      <td>at his post; then] Bernardo, [who approaches h...</td>\n",
       "      <td>ACT I.</td>\n",
       "    </tr>\n",
       "  </tbody>\n",
       "</table>\n",
       "</div>"
      ],
      "text/plain": [
       "                                        player_lines Act No.\n",
       "0                                  ACT I. Scene I.\\n  ACT I.\n",
       "1          Elsinore. A platform before the Castle.\\n  ACT I.\n",
       "2                                                 \\n  ACT I.\n",
       "3  Enter two Sentinels-[first,] Francisco, [who p...  ACT I.\n",
       "4  at his post; then] Bernardo, [who approaches h...  ACT I."
      ]
     },
     "execution_count": 10,
     "metadata": {},
     "output_type": "execute_result"
    }
   ],
   "source": [
    "acts.head()"
   ]
  },
  {
   "cell_type": "code",
   "execution_count": 11,
   "id": "6e7d4c0f-5f2b-4091-9425-3a61e55f8966",
   "metadata": {},
   "outputs": [],
   "source": [
    "act1=acts[acts[\"Act No.\"]==\"ACT I.\"]\n"
   ]
  },
  {
   "cell_type": "code",
   "execution_count": null,
   "id": "396a3060-cc3c-4052-bd16-98f511b64da3",
   "metadata": {},
   "outputs": [],
   "source": []
  },
  {
   "cell_type": "markdown",
   "id": "96cbc6cf-e678-4063-8be4-38b0692617c4",
   "metadata": {},
   "source": [
    "### N_Queens problem"
   ]
  },
  {
   "cell_type": "markdown",
   "id": "c8c10541-6b18-4f68-994b-ad2718e8b3dd",
   "metadata": {},
   "source": [
    "#### finding Cooccurence"
   ]
  },
  {
   "cell_type": "code",
   "execution_count": 12,
   "id": "36f0a6cb-c69d-4eca-850a-f79562d5a8fa",
   "metadata": {},
   "outputs": [],
   "source": [
    "Ham_lines=[]\n",
    "Ham_Mar_cooccur=[]\n",
    "for i,line in enumerate(act1[\"player_lines\"]):\n",
    "    if \"Ham.\" in line:\n",
    "        Ham_lines.append(i)\n",
    "        for j in range(10):\n",
    "            if \"Mar.\" in act1[\"player_lines\"][i-10+j]:\n",
    "                Ham_Mar_cooccur.append(i-10+j)\n",
    "                \n",
    "\n"
   ]
  },
  {
   "cell_type": "code",
   "execution_count": 13,
   "id": "0364efb5-08bf-4c3f-835b-30f2a5edfc7d",
   "metadata": {},
   "outputs": [
    {
     "data": {
      "text/plain": [
       "{393, 444, 459, 669, 732, 755, 904, 907, 909, 911, 915, 947, 949}"
      ]
     },
     "execution_count": 13,
     "metadata": {},
     "output_type": "execute_result"
    }
   ],
   "source": [
    "set(Ham_Mar_cooccur)"
   ]
  },
  {
   "cell_type": "code",
   "execution_count": 14,
   "id": "80dd7937-1068-4150-852d-abbc1092e1b5",
   "metadata": {},
   "outputs": [],
   "source": [
    "Ham_Hor_cooccur=[]\n",
    "for i,line in enumerate(act1[\"player_lines\"]):\n",
    "    if \"Ham.\" in line:\n",
    "        Ham_lines.append(i)\n",
    "        for j in range(10):\n",
    "            if \"Hor.\" in act1[\"player_lines\"][i-10+j]:\n",
    "                Ham_Hor_cooccur.append(i-10+j)\n",
    "                "
   ]
  },
  {
   "cell_type": "code",
   "execution_count": 15,
   "id": "72e5dd7a-e63e-4054-b902-ff7197239282",
   "metadata": {},
   "outputs": [
    {
     "data": {
      "text/plain": [
       "43"
      ]
     },
     "execution_count": 15,
     "metadata": {},
     "output_type": "execute_result"
    }
   ],
   "source": [
    "len(set(Ham_Hor_cooccur))"
   ]
  },
  {
   "cell_type": "code",
   "execution_count": 16,
   "id": "a4f587d9-a7c2-421a-a166-b6a1904eef4b",
   "metadata": {},
   "outputs": [],
   "source": [
    "def co_occur(person1,person2):\n",
    "    person1_lines=[]\n",
    "    person1_person2_cooccur=[]\n",
    "    for i,line in enumerate(act1[\"player_lines\"]):\n",
    "        if person1 in line:\n",
    "            Ham_lines.append(i)\n",
    "            for j in range(10):\n",
    "                if person2 in act1[\"player_lines\"][i-10+j]:\n",
    "                    person1_person2_cooccur.append(i-10+j)\n",
    "    return len(set(person1_person2_cooccur))"
   ]
  },
  {
   "cell_type": "code",
   "execution_count": 17,
   "id": "fc0c51c8-658e-46fd-8461-613b4a719364",
   "metadata": {},
   "outputs": [],
   "source": [
    "def co_occur(person1,person2,act=act1):\n",
    "    person1_lines=[]\n",
    "    person1_person2_cooccur=[]\n",
    "    for i,line in enumerate(act[\"player_lines\"]):\n",
    "        if person1 in line:\n",
    "            person1_lines.append(i)\n",
    "            if i>10:                      #debug\n",
    "                for j in range(10):\n",
    "                    if person2 in act[\"player_lines\"][i-10+j]:\n",
    "                        person1_person2_cooccur.append(i-10+j)\n",
    "            else:                         #debug\n",
    "                for j in range(i):\n",
    "                    if person2 in act[\"player_lines\"][i-j]:\n",
    "                        person1_person2_cooccur.append(i-j)\n",
    "                    \n",
    "    return len(set(person1_person2_cooccur))"
   ]
  },
  {
   "cell_type": "code",
   "execution_count": 18,
   "id": "df133827-cee0-41a3-9eb1-e3db53e84bb1",
   "metadata": {},
   "outputs": [
    {
     "data": {
      "text/plain": [
       "13"
      ]
     },
     "execution_count": 18,
     "metadata": {},
     "output_type": "execute_result"
    }
   ],
   "source": [
    "personas=[\"Ham.\",\"Mar.\",\"Hor.\",\"Ghost.\",\"Oph.\",\"Pol.\",\"Laer.\",\"King.\",\"Queen.\",\"Volt.\",\"Cor.\",\"Ber.\",\"Fran.\"]\n",
    "#personas=[\"Ham.\",\"Mar.\",\"Hor.\",\"Ghost.\",\"Oph.\",\"Pol.\",\"Laer.\",\"King.\",\"Queen.\",\"Volt.\",\"Cor.\"]\n",
    "len(personas)"
   ]
  },
  {
   "cell_type": "code",
   "execution_count": 19,
   "id": "919526f8-e896-45d1-a456-f49f8ca06f1f",
   "metadata": {},
   "outputs": [
    {
     "data": {
      "text/plain": [
       "156"
      ]
     },
     "execution_count": 19,
     "metadata": {},
     "output_type": "execute_result"
    }
   ],
   "source": [
    "relationships=[]\n",
    "for person1 in personas:\n",
    "    for person2 in personas:\n",
    "        if person1==person2:\n",
    "            continue\n",
    "        weight=co_occur(person1,person2)\n",
    "        #print(person1+person2+str(weight))\n",
    "        relationships.append((person1,person2,weight))\n",
    "len(relationships)"
   ]
  },
  {
   "cell_type": "code",
   "execution_count": null,
   "id": "49b5b343-2aee-47aa-89e5-6f91060e43b4",
   "metadata": {},
   "outputs": [],
   "source": []
  },
  {
   "cell_type": "code",
   "execution_count": null,
   "id": "ca97ddd6-2a09-4958-b2d4-192f960b8067",
   "metadata": {},
   "outputs": [],
   "source": []
  },
  {
   "cell_type": "markdown",
   "id": "248324fa-8197-4c7d-849b-e5c40fa2f3b2",
   "metadata": {},
   "source": [
    "#### relationship_df"
   ]
  },
  {
   "cell_type": "code",
   "execution_count": 20,
   "id": "eba599ef-7f0c-4fef-b066-418c6fea622b",
   "metadata": {},
   "outputs": [],
   "source": [
    "relationship_df = pd.DataFrame(relationships,columns=['Person 1','Person 2','weight'])\n"
   ]
  },
  {
   "cell_type": "code",
   "execution_count": 21,
   "id": "bb3f390f-2d1a-4c9c-9fea-e39e8075a5f8",
   "metadata": {},
   "outputs": [
    {
     "data": {
      "text/html": [
       "<div>\n",
       "<style scoped>\n",
       "    .dataframe tbody tr th:only-of-type {\n",
       "        vertical-align: middle;\n",
       "    }\n",
       "\n",
       "    .dataframe tbody tr th {\n",
       "        vertical-align: top;\n",
       "    }\n",
       "\n",
       "    .dataframe thead th {\n",
       "        text-align: right;\n",
       "    }\n",
       "</style>\n",
       "<table border=\"1\" class=\"dataframe\">\n",
       "  <thead>\n",
       "    <tr style=\"text-align: right;\">\n",
       "      <th></th>\n",
       "      <th>Person 1</th>\n",
       "      <th>Person 2</th>\n",
       "      <th>weight</th>\n",
       "    </tr>\n",
       "  </thead>\n",
       "  <tbody>\n",
       "    <tr>\n",
       "      <th>0</th>\n",
       "      <td>Ham.</td>\n",
       "      <td>Mar.</td>\n",
       "      <td>13</td>\n",
       "    </tr>\n",
       "    <tr>\n",
       "      <th>1</th>\n",
       "      <td>Ham.</td>\n",
       "      <td>Hor.</td>\n",
       "      <td>43</td>\n",
       "    </tr>\n",
       "    <tr>\n",
       "      <th>2</th>\n",
       "      <td>Ham.</td>\n",
       "      <td>Ghost.</td>\n",
       "      <td>12</td>\n",
       "    </tr>\n",
       "    <tr>\n",
       "      <th>4</th>\n",
       "      <td>Ham.</td>\n",
       "      <td>Pol.</td>\n",
       "      <td>1</td>\n",
       "    </tr>\n",
       "    <tr>\n",
       "      <th>6</th>\n",
       "      <td>Ham.</td>\n",
       "      <td>King.</td>\n",
       "      <td>4</td>\n",
       "    </tr>\n",
       "    <tr>\n",
       "      <th>7</th>\n",
       "      <td>Ham.</td>\n",
       "      <td>Queen.</td>\n",
       "      <td>3</td>\n",
       "    </tr>\n",
       "    <tr>\n",
       "      <th>10</th>\n",
       "      <td>Ham.</td>\n",
       "      <td>Ber.</td>\n",
       "      <td>1</td>\n",
       "    </tr>\n",
       "    <tr>\n",
       "      <th>12</th>\n",
       "      <td>Mar.</td>\n",
       "      <td>Ham.</td>\n",
       "      <td>15</td>\n",
       "    </tr>\n",
       "    <tr>\n",
       "      <th>13</th>\n",
       "      <td>Mar.</td>\n",
       "      <td>Hor.</td>\n",
       "      <td>29</td>\n",
       "    </tr>\n",
       "    <tr>\n",
       "      <th>14</th>\n",
       "      <td>Mar.</td>\n",
       "      <td>Ghost.</td>\n",
       "      <td>2</td>\n",
       "    </tr>\n",
       "    <tr>\n",
       "      <th>22</th>\n",
       "      <td>Mar.</td>\n",
       "      <td>Ber.</td>\n",
       "      <td>13</td>\n",
       "    </tr>\n",
       "    <tr>\n",
       "      <th>23</th>\n",
       "      <td>Mar.</td>\n",
       "      <td>Fran.</td>\n",
       "      <td>4</td>\n",
       "    </tr>\n",
       "    <tr>\n",
       "      <th>24</th>\n",
       "      <td>Hor.</td>\n",
       "      <td>Ham.</td>\n",
       "      <td>48</td>\n",
       "    </tr>\n",
       "    <tr>\n",
       "      <th>25</th>\n",
       "      <td>Hor.</td>\n",
       "      <td>Mar.</td>\n",
       "      <td>30</td>\n",
       "    </tr>\n",
       "    <tr>\n",
       "      <th>26</th>\n",
       "      <td>Hor.</td>\n",
       "      <td>Ghost.</td>\n",
       "      <td>7</td>\n",
       "    </tr>\n",
       "    <tr>\n",
       "      <th>34</th>\n",
       "      <td>Hor.</td>\n",
       "      <td>Ber.</td>\n",
       "      <td>15</td>\n",
       "    </tr>\n",
       "    <tr>\n",
       "      <th>35</th>\n",
       "      <td>Hor.</td>\n",
       "      <td>Fran.</td>\n",
       "      <td>4</td>\n",
       "    </tr>\n",
       "    <tr>\n",
       "      <th>36</th>\n",
       "      <td>Ghost.</td>\n",
       "      <td>Ham.</td>\n",
       "      <td>16</td>\n",
       "    </tr>\n",
       "    <tr>\n",
       "      <th>37</th>\n",
       "      <td>Ghost.</td>\n",
       "      <td>Mar.</td>\n",
       "      <td>6</td>\n",
       "    </tr>\n",
       "    <tr>\n",
       "      <th>38</th>\n",
       "      <td>Ghost.</td>\n",
       "      <td>Hor.</td>\n",
       "      <td>8</td>\n",
       "    </tr>\n",
       "    <tr>\n",
       "      <th>46</th>\n",
       "      <td>Ghost.</td>\n",
       "      <td>Ber.</td>\n",
       "      <td>4</td>\n",
       "    </tr>\n",
       "    <tr>\n",
       "      <th>52</th>\n",
       "      <td>Oph.</td>\n",
       "      <td>Pol.</td>\n",
       "      <td>6</td>\n",
       "    </tr>\n",
       "    <tr>\n",
       "      <th>53</th>\n",
       "      <td>Oph.</td>\n",
       "      <td>Laer.</td>\n",
       "      <td>5</td>\n",
       "    </tr>\n",
       "    <tr>\n",
       "      <th>64</th>\n",
       "      <td>Pol.</td>\n",
       "      <td>Oph.</td>\n",
       "      <td>6</td>\n",
       "    </tr>\n",
       "    <tr>\n",
       "      <th>65</th>\n",
       "      <td>Pol.</td>\n",
       "      <td>Laer.</td>\n",
       "      <td>5</td>\n",
       "    </tr>\n",
       "    <tr>\n",
       "      <th>66</th>\n",
       "      <td>Pol.</td>\n",
       "      <td>King.</td>\n",
       "      <td>1</td>\n",
       "    </tr>\n",
       "    <tr>\n",
       "      <th>76</th>\n",
       "      <td>Laer.</td>\n",
       "      <td>Oph.</td>\n",
       "      <td>4</td>\n",
       "    </tr>\n",
       "    <tr>\n",
       "      <th>77</th>\n",
       "      <td>Laer.</td>\n",
       "      <td>Pol.</td>\n",
       "      <td>1</td>\n",
       "    </tr>\n",
       "    <tr>\n",
       "      <th>84</th>\n",
       "      <td>King.</td>\n",
       "      <td>Ham.</td>\n",
       "      <td>2</td>\n",
       "    </tr>\n",
       "    <tr>\n",
       "      <th>89</th>\n",
       "      <td>King.</td>\n",
       "      <td>Pol.</td>\n",
       "      <td>1</td>\n",
       "    </tr>\n",
       "    <tr>\n",
       "      <th>90</th>\n",
       "      <td>King.</td>\n",
       "      <td>Laer.</td>\n",
       "      <td>1</td>\n",
       "    </tr>\n",
       "    <tr>\n",
       "      <th>91</th>\n",
       "      <td>King.</td>\n",
       "      <td>Queen.</td>\n",
       "      <td>1</td>\n",
       "    </tr>\n",
       "    <tr>\n",
       "      <th>92</th>\n",
       "      <td>King.</td>\n",
       "      <td>Volt.</td>\n",
       "      <td>1</td>\n",
       "    </tr>\n",
       "    <tr>\n",
       "      <th>93</th>\n",
       "      <td>King.</td>\n",
       "      <td>Cor.</td>\n",
       "      <td>1</td>\n",
       "    </tr>\n",
       "    <tr>\n",
       "      <th>96</th>\n",
       "      <td>Queen.</td>\n",
       "      <td>Ham.</td>\n",
       "      <td>3</td>\n",
       "    </tr>\n",
       "    <tr>\n",
       "      <th>101</th>\n",
       "      <td>Queen.</td>\n",
       "      <td>Pol.</td>\n",
       "      <td>1</td>\n",
       "    </tr>\n",
       "    <tr>\n",
       "      <th>103</th>\n",
       "      <td>Queen.</td>\n",
       "      <td>King.</td>\n",
       "      <td>2</td>\n",
       "    </tr>\n",
       "    <tr>\n",
       "      <th>132</th>\n",
       "      <td>Ber.</td>\n",
       "      <td>Ham.</td>\n",
       "      <td>2</td>\n",
       "    </tr>\n",
       "    <tr>\n",
       "      <th>133</th>\n",
       "      <td>Ber.</td>\n",
       "      <td>Mar.</td>\n",
       "      <td>12</td>\n",
       "    </tr>\n",
       "    <tr>\n",
       "      <th>134</th>\n",
       "      <td>Ber.</td>\n",
       "      <td>Hor.</td>\n",
       "      <td>10</td>\n",
       "    </tr>\n",
       "    <tr>\n",
       "      <th>135</th>\n",
       "      <td>Ber.</td>\n",
       "      <td>Ghost.</td>\n",
       "      <td>3</td>\n",
       "    </tr>\n",
       "    <tr>\n",
       "      <th>143</th>\n",
       "      <td>Ber.</td>\n",
       "      <td>Fran.</td>\n",
       "      <td>8</td>\n",
       "    </tr>\n",
       "    <tr>\n",
       "      <th>145</th>\n",
       "      <td>Fran.</td>\n",
       "      <td>Mar.</td>\n",
       "      <td>2</td>\n",
       "    </tr>\n",
       "    <tr>\n",
       "      <th>146</th>\n",
       "      <td>Fran.</td>\n",
       "      <td>Hor.</td>\n",
       "      <td>1</td>\n",
       "    </tr>\n",
       "    <tr>\n",
       "      <th>155</th>\n",
       "      <td>Fran.</td>\n",
       "      <td>Ber.</td>\n",
       "      <td>6</td>\n",
       "    </tr>\n",
       "  </tbody>\n",
       "</table>\n",
       "</div>"
      ],
      "text/plain": [
       "    Person 1 Person 2  weight\n",
       "0       Ham.     Mar.      13\n",
       "1       Ham.     Hor.      43\n",
       "2       Ham.   Ghost.      12\n",
       "4       Ham.     Pol.       1\n",
       "6       Ham.    King.       4\n",
       "7       Ham.   Queen.       3\n",
       "10      Ham.     Ber.       1\n",
       "12      Mar.     Ham.      15\n",
       "13      Mar.     Hor.      29\n",
       "14      Mar.   Ghost.       2\n",
       "22      Mar.     Ber.      13\n",
       "23      Mar.    Fran.       4\n",
       "24      Hor.     Ham.      48\n",
       "25      Hor.     Mar.      30\n",
       "26      Hor.   Ghost.       7\n",
       "34      Hor.     Ber.      15\n",
       "35      Hor.    Fran.       4\n",
       "36    Ghost.     Ham.      16\n",
       "37    Ghost.     Mar.       6\n",
       "38    Ghost.     Hor.       8\n",
       "46    Ghost.     Ber.       4\n",
       "52      Oph.     Pol.       6\n",
       "53      Oph.    Laer.       5\n",
       "64      Pol.     Oph.       6\n",
       "65      Pol.    Laer.       5\n",
       "66      Pol.    King.       1\n",
       "76     Laer.     Oph.       4\n",
       "77     Laer.     Pol.       1\n",
       "84     King.     Ham.       2\n",
       "89     King.     Pol.       1\n",
       "90     King.    Laer.       1\n",
       "91     King.   Queen.       1\n",
       "92     King.    Volt.       1\n",
       "93     King.     Cor.       1\n",
       "96    Queen.     Ham.       3\n",
       "101   Queen.     Pol.       1\n",
       "103   Queen.    King.       2\n",
       "132     Ber.     Ham.       2\n",
       "133     Ber.     Mar.      12\n",
       "134     Ber.     Hor.      10\n",
       "135     Ber.   Ghost.       3\n",
       "143     Ber.    Fran.       8\n",
       "145    Fran.     Mar.       2\n",
       "146    Fran.     Hor.       1\n",
       "155    Fran.     Ber.       6"
      ]
     },
     "execution_count": 21,
     "metadata": {},
     "output_type": "execute_result"
    }
   ],
   "source": [
    "relationship_df=relationship_df[relationship_df[\"weight\"]!=0]\n",
    "relationship_df"
   ]
  },
  {
   "cell_type": "markdown",
   "id": "ebac92cd-362b-47e4-9293-9b0547d102e6",
   "metadata": {
    "tags": []
   },
   "source": [
    "#### Visualzing each act as a network"
   ]
  },
  {
   "cell_type": "code",
   "execution_count": 22,
   "id": "501ef825-7607-492f-8246-fada518b14e5",
   "metadata": {},
   "outputs": [],
   "source": [
    "G1 = nx.from_pandas_edgelist(relationship_df, \n",
    "                             'Person 1', \n",
    "                             \"Person 2\", \n",
    "                             edge_attr = \"weight\",\n",
    "                             create_using = nx.Graph())\n",
    "\n"
   ]
  },
  {
   "cell_type": "code",
   "execution_count": 23,
   "id": "61164fb6-518a-4693-9cda-12e258fd41a3",
   "metadata": {},
   "outputs": [
    {
     "name": "stderr",
     "output_type": "stream",
     "text": [
      "/var/folders/fc/3zs433w12qd3yx2txjxbbsph0000gn/T/ipykernel_10170/968434106.py:1: DeprecationWarning: info is deprecated and will be removed in version 3.0.\n",
      "\n",
      "  nx.info(G1)\n"
     ]
    },
    {
     "data": {
      "text/plain": [
       "'Graph with 13 nodes and 25 edges'"
      ]
     },
     "execution_count": 23,
     "metadata": {},
     "output_type": "execute_result"
    }
   ],
   "source": [
    "nx.info(G1)"
   ]
  },
  {
   "cell_type": "code",
   "execution_count": 24,
   "id": "3f00f5a6-9828-4c57-bd14-a7fa70f9e2cb",
   "metadata": {},
   "outputs": [
    {
     "data": {
      "image/png": "[encoded data removed]",
      "text/plain": [
       "<Figure size 720x720 with 1 Axes>"
      ]
     },
     "metadata": {},
     "output_type": "display_data"
    }
   ],
   "source": [
    "plt.figure(figsize=(10,10)) \n",
    "nx.draw_networkx(G1,with_labels=True,node_size=700)\n",
    "plt.show()"
   ]
  },
  {
   "cell_type": "code",
   "execution_count": 25,
   "id": "de98d863-df1c-4cbf-9267-efc6e783d079",
   "metadata": {},
   "outputs": [
    {
     "data": {
      "text/html": [
       "<div>\n",
       "<style scoped>\n",
       "    .dataframe tbody tr th:only-of-type {\n",
       "        vertical-align: middle;\n",
       "    }\n",
       "\n",
       "    .dataframe tbody tr th {\n",
       "        vertical-align: top;\n",
       "    }\n",
       "\n",
       "    .dataframe thead th {\n",
       "        text-align: right;\n",
       "    }\n",
       "</style>\n",
       "<table border=\"1\" class=\"dataframe\">\n",
       "  <thead>\n",
       "    <tr style=\"text-align: right;\">\n",
       "      <th></th>\n",
       "      <th>count</th>\n",
       "      <th>mean</th>\n",
       "      <th>std</th>\n",
       "      <th>min</th>\n",
       "      <th>25%</th>\n",
       "      <th>50%</th>\n",
       "      <th>75%</th>\n",
       "      <th>max</th>\n",
       "    </tr>\n",
       "  </thead>\n",
       "  <tbody>\n",
       "    <tr>\n",
       "      <th>weight</th>\n",
       "      <td>45.0</td>\n",
       "      <td>8.066667</td>\n",
       "      <td>10.560217</td>\n",
       "      <td>1.0</td>\n",
       "      <td>2.0</td>\n",
       "      <td>4.0</td>\n",
       "      <td>10.0</td>\n",
       "      <td>48.0</td>\n",
       "    </tr>\n",
       "  </tbody>\n",
       "</table>\n",
       "</div>"
      ],
      "text/plain": [
       "        count      mean        std  min  25%  50%   75%   max\n",
       "weight   45.0  8.066667  10.560217  1.0  2.0  4.0  10.0  48.0"
      ]
     },
     "execution_count": 25,
     "metadata": {},
     "output_type": "execute_result"
    }
   ],
   "source": [
    "relationship_df.describe().T"
   ]
  },
  {
   "cell_type": "code",
   "execution_count": 26,
   "id": "263bf535-59b0-468c-b2d5-fff163fbc068",
   "metadata": {},
   "outputs": [
    {
     "data": {
      "text/plain": [
       "43"
      ]
     },
     "execution_count": 26,
     "metadata": {},
     "output_type": "execute_result"
    }
   ],
   "source": [
    "relationship_df[\"weight\"][1]"
   ]
  },
  {
   "cell_type": "markdown",
   "id": "879baea2-987a-41c3-b249-cac455e4ed3f",
   "metadata": {},
   "source": [
    "#### Degree Measure"
   ]
  },
  {
   "cell_type": "code",
   "execution_count": 27,
   "id": "74ab03e7-039d-490e-85aa-9919ed99bdf5",
   "metadata": {},
   "outputs": [
    {
     "data": {
      "text/html": [
       "<div>\n",
       "<style scoped>\n",
       "    .dataframe tbody tr th:only-of-type {\n",
       "        vertical-align: middle;\n",
       "    }\n",
       "\n",
       "    .dataframe tbody tr th {\n",
       "        vertical-align: top;\n",
       "    }\n",
       "\n",
       "    .dataframe thead th {\n",
       "        text-align: right;\n",
       "    }\n",
       "</style>\n",
       "<table border=\"1\" class=\"dataframe\">\n",
       "  <thead>\n",
       "    <tr style=\"text-align: right;\">\n",
       "      <th></th>\n",
       "      <th>Character</th>\n",
       "      <th>Degree Centrality</th>\n",
       "    </tr>\n",
       "  </thead>\n",
       "  <tbody>\n",
       "    <tr>\n",
       "      <th>0</th>\n",
       "      <td>Ham.</td>\n",
       "      <td>0.583333</td>\n",
       "    </tr>\n",
       "    <tr>\n",
       "      <th>1</th>\n",
       "      <td>King.</td>\n",
       "      <td>0.500000</td>\n",
       "    </tr>\n",
       "    <tr>\n",
       "      <th>2</th>\n",
       "      <td>Mar.</td>\n",
       "      <td>0.416667</td>\n",
       "    </tr>\n",
       "    <tr>\n",
       "      <th>3</th>\n",
       "      <td>Hor.</td>\n",
       "      <td>0.416667</td>\n",
       "    </tr>\n",
       "    <tr>\n",
       "      <th>4</th>\n",
       "      <td>Pol.</td>\n",
       "      <td>0.416667</td>\n",
       "    </tr>\n",
       "    <tr>\n",
       "      <th>5</th>\n",
       "      <td>Ber.</td>\n",
       "      <td>0.416667</td>\n",
       "    </tr>\n",
       "    <tr>\n",
       "      <th>6</th>\n",
       "      <td>Ghost.</td>\n",
       "      <td>0.333333</td>\n",
       "    </tr>\n",
       "    <tr>\n",
       "      <th>7</th>\n",
       "      <td>Queen.</td>\n",
       "      <td>0.250000</td>\n",
       "    </tr>\n",
       "    <tr>\n",
       "      <th>8</th>\n",
       "      <td>Fran.</td>\n",
       "      <td>0.250000</td>\n",
       "    </tr>\n",
       "    <tr>\n",
       "      <th>9</th>\n",
       "      <td>Laer.</td>\n",
       "      <td>0.250000</td>\n",
       "    </tr>\n",
       "    <tr>\n",
       "      <th>10</th>\n",
       "      <td>Oph.</td>\n",
       "      <td>0.166667</td>\n",
       "    </tr>\n",
       "    <tr>\n",
       "      <th>11</th>\n",
       "      <td>Volt.</td>\n",
       "      <td>0.083333</td>\n",
       "    </tr>\n",
       "    <tr>\n",
       "      <th>12</th>\n",
       "      <td>Cor.</td>\n",
       "      <td>0.083333</td>\n",
       "    </tr>\n",
       "  </tbody>\n",
       "</table>\n",
       "</div>"
      ],
      "text/plain": [
       "   Character  Degree Centrality\n",
       "0       Ham.           0.583333\n",
       "1      King.           0.500000\n",
       "2       Mar.           0.416667\n",
       "3       Hor.           0.416667\n",
       "4       Pol.           0.416667\n",
       "5       Ber.           0.416667\n",
       "6     Ghost.           0.333333\n",
       "7     Queen.           0.250000\n",
       "8      Fran.           0.250000\n",
       "9      Laer.           0.250000\n",
       "10      Oph.           0.166667\n",
       "11     Volt.           0.083333\n",
       "12      Cor.           0.083333"
      ]
     },
     "execution_count": 27,
     "metadata": {},
     "output_type": "execute_result"
    }
   ],
   "source": [
    "def deg_central(G):\n",
    "    deg_centrality = nx.degree_centrality(G)\n",
    "    \n",
    "    deg_centrality_sort = sorted(deg_centrality.items(), key = lambda x:x[1], reverse = True) #sort the degree centralities of characters in decending order\n",
    "    \n",
    "    deg_centrality_sort = pd.DataFrame.from_dict(deg_centrality_sort)\n",
    "    \n",
    "    deg_centrality_sort.columns = ([\"Character\", \"Degree Centrality\"])\n",
    "    \n",
    "    return deg_centrality_sort\n",
    "deg_centrality_sort = deg_central(G1)\n",
    "deg_central(G1)"
   ]
  },
  {
   "cell_type": "markdown",
   "id": "99494377-1ceb-462d-8270-e51222d9f26d",
   "metadata": {},
   "source": [
    "# Prototype function"
   ]
  },
  {
   "cell_type": "markdown",
   "id": "30a48e75-c471-43ae-9a42-6becbaaa4921",
   "metadata": {},
   "source": [
    "#### materials"
   ]
  },
  {
   "cell_type": "code",
   "execution_count": 28,
   "id": "b82b7c5b-091e-4adb-a477-1cc29a0ebdf4",
   "metadata": {},
   "outputs": [
    {
     "data": {
      "text/plain": [
       "Index(['Act I.', 'Act II.', 'Act III.', 'Act VI.', 'Act V'], dtype='object')"
      ]
     },
     "execution_count": 28,
     "metadata": {},
     "output_type": "execute_result"
    }
   ],
   "source": [
    "acts_index=player_line_act.columns[2:]\n",
    "acts_index"
   ]
  },
  {
   "cell_type": "code",
   "execution_count": 29,
   "id": "042e00ff-4326-4338-8c06-f6d7a954bc13",
   "metadata": {},
   "outputs": [
    {
     "data": {
      "text/plain": [
       "[array(['King.', 'Mar.', 'Ham.', 'Pol.', 'Hor.', 'Laer.', 'Volt.', 'Cor.',\n",
       "        'Mar.', 'Ber.', 'Fran.', 'Queen.', 'Oph.', 'Ghost.'], dtype=object),\n",
       " array(['King.', 'Ham.', 'Pol.', 'Volt.', 'Ros.', 'Guil.', 'Rey.',\n",
       "        'Queen.', 'Oph.'], dtype=object),\n",
       " array(['King.', 'Ham.', 'Pol.', 'Hor.', 'Ros.', 'Guil.', 'Queen.', 'Oph.',\n",
       "        'Ghost.'], dtype=object),\n",
       " array(['King.', 'Ham.', 'Hor.', 'Laer.', 'Ros.', 'Guil.', 'Gent.',\n",
       "        'Capt.', 'Queen.', 'Oph.'], dtype=object),\n",
       " array(['King.', 'Ham.', 'Hor.', 'Laer.', 'Osr.', 'Priest.', 'Clowns',\n",
       "        'Fort.', 'Ambassador.', 'Queen.'], dtype=object)]"
      ]
     },
     "execution_count": 29,
     "metadata": {},
     "output_type": "execute_result"
    }
   ],
   "source": [
    "personas_list=[]\n",
    "for act in acts_index:\n",
    "    personas=player_line_act[player_line_act[act]!=0][\"Alias\"].values\n",
    "    personas_list.append(personas)\n",
    "personas_list"
   ]
  },
  {
   "cell_type": "code",
   "execution_count": 30,
   "id": "f603a2c2-0b0e-4974-a928-c45b3f4f87c0",
   "metadata": {},
   "outputs": [],
   "source": [
    "act1=acts[acts[\"Act No.\"]==\"ACT I.\"]\n",
    "act2=acts[acts[\"Act No.\"]==\"ACT II.\"]\n",
    "act3=acts[acts[\"Act No.\"]==\"ACT III.\"]\n",
    "act4=acts[acts[\"Act No.\"]==\"ACT IV.\"]\n",
    "act5=acts[acts[\"Act No.\"]==\"ACT V.\"]\n",
    "act_list=[act1,act2,act3,act4,act5]"
   ]
  },
  {
   "cell_type": "markdown",
   "id": "8c0ad13b-a08b-43a6-b788-bfb80abdc6c6",
   "metadata": {
    "tags": []
   },
   "source": [
    "#### occur()"
   ]
  },
  {
   "cell_type": "code",
   "execution_count": 31,
   "id": "5e5e0191-f309-4712-ba16-14e524c670f6",
   "metadata": {},
   "outputs": [],
   "source": [
    "def occur(person1,act):\n",
    "    person1_lines=[]\n",
    "    person1_person2_cooccur=[]\n",
    "    for i,line in enumerate(act[\"player_lines\"]):\n",
    "        if person1 in line:\n",
    "            person1_lines.append(i)\n",
    "    \n",
    "    return act.iloc[person1_lines]\n",
    "            "
   ]
  },
  {
   "cell_type": "code",
   "execution_count": 32,
   "id": "ecefc4ad-efe8-4f97-9f4f-8c1826dfb75b",
   "metadata": {},
   "outputs": [],
   "source": [
    "personas=['King.', 'Ham.', 'Pol.', 'Volt.', 'Ros.', 'Guil.', 'Rey.',\n",
    "        'Queen.', 'Oph.']"
   ]
  },
  {
   "cell_type": "code",
   "execution_count": 33,
   "id": "2348a480-72ea-4c1d-b5a1-3ef715f075b6",
   "metadata": {},
   "outputs": [
    {
     "data": {
      "text/html": [
       "<div>\n",
       "<style scoped>\n",
       "    .dataframe tbody tr th:only-of-type {\n",
       "        vertical-align: middle;\n",
       "    }\n",
       "\n",
       "    .dataframe tbody tr th {\n",
       "        vertical-align: top;\n",
       "    }\n",
       "\n",
       "    .dataframe thead th {\n",
       "        text-align: right;\n",
       "    }\n",
       "</style>\n",
       "<table border=\"1\" class=\"dataframe\">\n",
       "  <thead>\n",
       "    <tr style=\"text-align: right;\">\n",
       "      <th></th>\n",
       "      <th>player_lines</th>\n",
       "      <th>Act No.</th>\n",
       "    </tr>\n",
       "  </thead>\n",
       "  <tbody>\n",
       "    <tr>\n",
       "      <th>3120</th>\n",
       "      <td>Oph. Where is the beauteous Majesty of Denma...</td>\n",
       "      <td>ACT IV.</td>\n",
       "    </tr>\n",
       "    <tr>\n",
       "      <th>3122</th>\n",
       "      <td>Oph. (sings)\\n</td>\n",
       "      <td>ACT IV.</td>\n",
       "    </tr>\n",
       "    <tr>\n",
       "      <th>3129</th>\n",
       "      <td>Oph. Say you? Nay, pray You mark.\\n</td>\n",
       "      <td>ACT IV.</td>\n",
       "    </tr>\n",
       "    <tr>\n",
       "      <th>3138</th>\n",
       "      <td>Oph. Pray you mark.\\n</td>\n",
       "      <td>ACT IV.</td>\n",
       "    </tr>\n",
       "    <tr>\n",
       "      <th>3145</th>\n",
       "      <td>Oph. (Sings)\\n</td>\n",
       "      <td>ACT IV.</td>\n",
       "    </tr>\n",
       "    <tr>\n",
       "      <th>3151</th>\n",
       "      <td>Oph. Well, God dild you! They say the owl wa...</td>\n",
       "      <td>ACT IV.</td>\n",
       "    </tr>\n",
       "    <tr>\n",
       "      <th>3155</th>\n",
       "      <td>Oph. Pray let's have no words of this; but w...</td>\n",
       "      <td>ACT IV.</td>\n",
       "    </tr>\n",
       "    <tr>\n",
       "      <th>3169</th>\n",
       "      <td>Oph. Indeed, la, without an oath, I'll make ...</td>\n",
       "      <td>ACT IV.</td>\n",
       "    </tr>\n",
       "    <tr>\n",
       "      <th>3185</th>\n",
       "      <td>Oph. I hope all will be well. We must be pat...</td>\n",
       "      <td>ACT IV.</td>\n",
       "    </tr>\n",
       "    <tr>\n",
       "      <th>3304</th>\n",
       "      <td>Oph. (sings)\\n</td>\n",
       "      <td>ACT IV.</td>\n",
       "    </tr>\n",
       "    <tr>\n",
       "      <th>3312</th>\n",
       "      <td>Oph. You must sing 'A-down a-down, and you c...</td>\n",
       "      <td>ACT IV.</td>\n",
       "    </tr>\n",
       "    <tr>\n",
       "      <th>3316</th>\n",
       "      <td>Oph. There's rosemary, that's for remembranc...</td>\n",
       "      <td>ACT IV.</td>\n",
       "    </tr>\n",
       "    <tr>\n",
       "      <th>3319</th>\n",
       "      <td>Oph. There's fennel for you, and columbines....</td>\n",
       "      <td>ACT IV.</td>\n",
       "    </tr>\n",
       "    <tr>\n",
       "      <th>3329</th>\n",
       "      <td>Oph. (sings)\\n</td>\n",
       "      <td>ACT IV.</td>\n",
       "    </tr>\n",
       "  </tbody>\n",
       "</table>\n",
       "</div>"
      ],
      "text/plain": [
       "                                           player_lines  Act No.\n",
       "3120    Oph. Where is the beauteous Majesty of Denma...  ACT IV.\n",
       "3122                                     Oph. (sings)\\n  ACT IV.\n",
       "3129                Oph. Say you? Nay, pray You mark.\\n  ACT IV.\n",
       "3138                              Oph. Pray you mark.\\n  ACT IV.\n",
       "3145                                     Oph. (Sings)\\n  ACT IV.\n",
       "3151    Oph. Well, God dild you! They say the owl wa...  ACT IV.\n",
       "3155    Oph. Pray let's have no words of this; but w...  ACT IV.\n",
       "3169    Oph. Indeed, la, without an oath, I'll make ...  ACT IV.\n",
       "3185    Oph. I hope all will be well. We must be pat...  ACT IV.\n",
       "3304                                     Oph. (sings)\\n  ACT IV.\n",
       "3312    Oph. You must sing 'A-down a-down, and you c...  ACT IV.\n",
       "3316    Oph. There's rosemary, that's for remembranc...  ACT IV.\n",
       "3319    Oph. There's fennel for you, and columbines....  ACT IV.\n",
       "3329                                     Oph. (sings)\\n  ACT IV."
      ]
     },
     "execution_count": 33,
     "metadata": {},
     "output_type": "execute_result"
    }
   ],
   "source": [
    "occur(\"Oph.\",act4)"
   ]
  },
  {
   "cell_type": "markdown",
   "id": "d6b3885f-37a7-46b1-b8c5-9e3b4176e929",
   "metadata": {},
   "source": [
    "#### co_occur()"
   ]
  },
  {
   "cell_type": "code",
   "execution_count": 34,
   "id": "e9788441-385f-4ba1-97cd-3d8b50059dc3",
   "metadata": {},
   "outputs": [
    {
     "data": {
      "text/plain": [
       "1004                              Act II. Scene I.\\n\n",
       "1005    Elsinore. A room in the house of Polonius.\\n\n",
       "1006                                              \\n\n",
       "1007                  Enter Polonius and Reynaldo.\\n\n",
       "1008                                              \\n\n",
       "                            ...                     \n",
       "1787                                              \\n\n",
       "1788                                              \\n\n",
       "1789                                              \\n\n",
       "1790                                              \\n\n",
       "1791                                              \\n\n",
       "Name: player_lines, Length: 788, dtype: object"
      ]
     },
     "execution_count": 34,
     "metadata": {},
     "output_type": "execute_result"
    }
   ],
   "source": [
    "acts[acts[\"Act No.\"]==\"ACT II.\"][\"player_lines\"]"
   ]
  },
  {
   "cell_type": "code",
   "execution_count": 35,
   "id": "e0043cd8-416d-4f7c-aee7-f1f556535966",
   "metadata": {},
   "outputs": [],
   "source": [
    "def co_occur(person1,person2,act=act1,n=0):\n",
    "    person1_lines=[]\n",
    "    person1_person2_cooccur=[]\n",
    "    for i,line in enumerate(act[\"player_lines\"]):\n",
    "        if person1 in line:\n",
    "            person1_lines.append(i)\n",
    "            if i>10:                      #debug\n",
    "                for j in range(10):\n",
    "                    if person2 in act[\"player_lines\"][i-10+j+n]:\n",
    "                        person1_person2_cooccur.append(i-10+j+n)\n",
    "            else:                         #debug\n",
    "                for j in range(i):\n",
    "                    if person2 in act[\"player_lines\"][i-j+n]:\n",
    "                        person1_person2_cooccur.append(i-j+n)\n",
    "                    \n",
    "    return len(set(person1_person2_cooccur))"
   ]
  },
  {
   "cell_type": "markdown",
   "id": "8a95da65-a38a-491c-8ecf-b250dd04ab22",
   "metadata": {
    "tags": []
   },
   "source": [
    "#### relationship()"
   ]
  },
  {
   "cell_type": "code",
   "execution_count": 36,
   "id": "4d52f844-2cd3-4afd-a77b-a3e205f2c7e5",
   "metadata": {},
   "outputs": [],
   "source": [
    "def relationship(personas, act=act2,n=1004):\n",
    "    relationships=[]\n",
    "    for person1 in personas:\n",
    "        for person2 in personas:\n",
    "            if person1==person2:\n",
    "                continue\n",
    "            weight=co_occur(person1,person2,act=act, n=n)\n",
    "            #print(person1+person2+str(weight))\n",
    "            relationships.append((person1,person2,weight))\n",
    "    relationship_df = pd.DataFrame(relationships,columns=['Person 1','Person 2','weight'])\n",
    "    relationship_df=relationship_df[relationship_df[\"weight\"]!=0]\n",
    "    return relationship_df"
   ]
  },
  {
   "cell_type": "code",
   "execution_count": 37,
   "id": "2a7f56dd-1315-4e67-9129-1f258036478a",
   "metadata": {},
   "outputs": [
    {
     "data": {
      "text/plain": [
       "[        player_lines Act No.\n",
       " 0  ACT I. Scene I.\\n  ACT I.,\n",
       "             player_lines  Act No.\n",
       " 1004  Act II. Scene I.\\n  ACT II.,\n",
       "              player_lines   Act No.\n",
       " 1792  ACT III. Scene I.\\n  ACT III.,\n",
       "             player_lines  Act No.\n",
       " 2816  ACT IV. Scene I.\\n  ACT IV.,\n",
       "            player_lines Act No.\n",
       " 3645  ACT V. Scene I.\\n  ACT V.]"
      ]
     },
     "execution_count": 37,
     "metadata": {},
     "output_type": "execute_result"
    }
   ],
   "source": [
    "##denote the n for the beginning line of each act\n",
    "[act1.head(1),act2.head(1),act3.head(1),act4.head(1),act5.head(1)]"
   ]
  },
  {
   "cell_type": "code",
   "execution_count": 38,
   "id": "2c417bdc-37a2-4182-b655-4a498ee2c271",
   "metadata": {},
   "outputs": [
    {
     "data": {
      "text/plain": [
       "[array(['King.', 'Mar.', 'Ham.', 'Pol.', 'Hor.', 'Laer.', 'Volt.', 'Cor.',\n",
       "        'Mar.', 'Ber.', 'Fran.', 'Queen.', 'Oph.', 'Ghost.'], dtype=object),\n",
       " array(['King.', 'Ham.', 'Pol.', 'Volt.', 'Ros.', 'Guil.', 'Rey.',\n",
       "        'Queen.', 'Oph.'], dtype=object),\n",
       " array(['King.', 'Ham.', 'Pol.', 'Hor.', 'Ros.', 'Guil.', 'Queen.', 'Oph.',\n",
       "        'Ghost.'], dtype=object),\n",
       " array(['King.', 'Ham.', 'Hor.', 'Laer.', 'Ros.', 'Guil.', 'Gent.',\n",
       "        'Capt.', 'Queen.', 'Oph.'], dtype=object),\n",
       " array(['King.', 'Ham.', 'Hor.', 'Laer.', 'Osr.', 'Priest.', 'Clowns',\n",
       "        'Fort.', 'Ambassador.', 'Queen.'], dtype=object)]"
      ]
     },
     "execution_count": 38,
     "metadata": {},
     "output_type": "execute_result"
    }
   ],
   "source": [
    "##denoe the personas for each act\n",
    "personas_list"
   ]
  },
  {
   "cell_type": "markdown",
   "id": "b11533a7-5f17-4385-9dac-1317a5b355b4",
   "metadata": {
    "tags": []
   },
   "source": [
    "# Structure the Data"
   ]
  },
  {
   "cell_type": "code",
   "execution_count": 39,
   "id": "90742a9e-a217-4e83-90fa-7a8a19470f83",
   "metadata": {},
   "outputs": [],
   "source": [
    "#### The whole play\n",
    "act0_df=relationship(characters[\"Alias\"].tolist(),act=acts,n=0)"
   ]
  },
  {
   "cell_type": "code",
   "execution_count": 40,
   "id": "62624bd9-c639-4cca-8e69-aedf4e4bc3f6",
   "metadata": {},
   "outputs": [],
   "source": []
  },
  {
   "cell_type": "code",
   "execution_count": null,
   "id": "5f385f1e-0a6e-4afd-859a-bc21e97ba273",
   "metadata": {},
   "outputs": [],
   "source": []
  },
  {
   "cell_type": "code",
   "execution_count": 41,
   "id": "f39523aa-9605-4354-a206-0846376c1606",
   "metadata": {
    "jp-MarkdownHeadingCollapsed": true,
    "tags": []
   },
   "outputs": [],
   "source": [
    "#### ACT I.\n",
    "act1_df=relationship(['King.', 'Mar.', 'Ham.', 'Pol.', 'Hor.', 'Laer.', 'Volt.', 'Cor.',\n",
    "        'Mar.', 'Ber.', 'Fran.', 'Queen.', 'Oph.', 'Ghost.'],act=act1,n=0)"
   ]
  },
  {
   "cell_type": "code",
   "execution_count": 42,
   "id": "61f48dc6-19a5-4e94-8a38-e382b7ebe68f",
   "metadata": {},
   "outputs": [],
   "source": [
    "#### ACT II.\n",
    "act2_df=relationship(['King.', 'Ham.', 'Pol.', 'Volt.', 'Ros.', 'Guil.', 'Rey.',\n",
    "        'Queen.', 'Oph.'],act=act2,n=1004)"
   ]
  },
  {
   "cell_type": "code",
   "execution_count": 43,
   "id": "74b45362-fe8f-4cbb-87f7-13089d41aa79",
   "metadata": {},
   "outputs": [
    {
     "data": {
      "text/html": [
       "<div>\n",
       "<style scoped>\n",
       "    .dataframe tbody tr th:only-of-type {\n",
       "        vertical-align: middle;\n",
       "    }\n",
       "\n",
       "    .dataframe tbody tr th {\n",
       "        vertical-align: top;\n",
       "    }\n",
       "\n",
       "    .dataframe thead th {\n",
       "        text-align: right;\n",
       "    }\n",
       "</style>\n",
       "<table border=\"1\" class=\"dataframe\">\n",
       "  <thead>\n",
       "    <tr style=\"text-align: right;\">\n",
       "      <th></th>\n",
       "      <th>Person 1</th>\n",
       "      <th>Person 2</th>\n",
       "      <th>weight</th>\n",
       "    </tr>\n",
       "  </thead>\n",
       "  <tbody>\n",
       "    <tr>\n",
       "      <th>1</th>\n",
       "      <td>King.</td>\n",
       "      <td>Pol.</td>\n",
       "      <td>9</td>\n",
       "    </tr>\n",
       "    <tr>\n",
       "      <th>3</th>\n",
       "      <td>King.</td>\n",
       "      <td>Ros.</td>\n",
       "      <td>1</td>\n",
       "    </tr>\n",
       "    <tr>\n",
       "      <th>4</th>\n",
       "      <td>King.</td>\n",
       "      <td>Guil.</td>\n",
       "      <td>2</td>\n",
       "    </tr>\n",
       "    <tr>\n",
       "      <th>6</th>\n",
       "      <td>King.</td>\n",
       "      <td>Queen.</td>\n",
       "      <td>4</td>\n",
       "    </tr>\n",
       "    <tr>\n",
       "      <th>7</th>\n",
       "      <td>King.</td>\n",
       "      <td>Oph.</td>\n",
       "      <td>1</td>\n",
       "    </tr>\n",
       "    <tr>\n",
       "      <th>8</th>\n",
       "      <td>Ham.</td>\n",
       "      <td>King.</td>\n",
       "      <td>1</td>\n",
       "    </tr>\n",
       "    <tr>\n",
       "      <th>9</th>\n",
       "      <td>Ham.</td>\n",
       "      <td>Pol.</td>\n",
       "      <td>26</td>\n",
       "    </tr>\n",
       "    <tr>\n",
       "      <th>11</th>\n",
       "      <td>Ham.</td>\n",
       "      <td>Ros.</td>\n",
       "      <td>22</td>\n",
       "    </tr>\n",
       "    <tr>\n",
       "      <th>12</th>\n",
       "      <td>Ham.</td>\n",
       "      <td>Guil.</td>\n",
       "      <td>10</td>\n",
       "    </tr>\n",
       "    <tr>\n",
       "      <th>14</th>\n",
       "      <td>Ham.</td>\n",
       "      <td>Queen.</td>\n",
       "      <td>1</td>\n",
       "    </tr>\n",
       "    <tr>\n",
       "      <th>16</th>\n",
       "      <td>Pol.</td>\n",
       "      <td>King.</td>\n",
       "      <td>10</td>\n",
       "    </tr>\n",
       "    <tr>\n",
       "      <th>17</th>\n",
       "      <td>Pol.</td>\n",
       "      <td>Ham.</td>\n",
       "      <td>26</td>\n",
       "    </tr>\n",
       "    <tr>\n",
       "      <th>19</th>\n",
       "      <td>Pol.</td>\n",
       "      <td>Ros.</td>\n",
       "      <td>1</td>\n",
       "    </tr>\n",
       "    <tr>\n",
       "      <th>20</th>\n",
       "      <td>Pol.</td>\n",
       "      <td>Guil.</td>\n",
       "      <td>2</td>\n",
       "    </tr>\n",
       "    <tr>\n",
       "      <th>21</th>\n",
       "      <td>Pol.</td>\n",
       "      <td>Rey.</td>\n",
       "      <td>13</td>\n",
       "    </tr>\n",
       "    <tr>\n",
       "      <th>22</th>\n",
       "      <td>Pol.</td>\n",
       "      <td>Queen.</td>\n",
       "      <td>6</td>\n",
       "    </tr>\n",
       "    <tr>\n",
       "      <th>23</th>\n",
       "      <td>Pol.</td>\n",
       "      <td>Oph.</td>\n",
       "      <td>4</td>\n",
       "    </tr>\n",
       "    <tr>\n",
       "      <th>24</th>\n",
       "      <td>Volt.</td>\n",
       "      <td>King.</td>\n",
       "      <td>1</td>\n",
       "    </tr>\n",
       "    <tr>\n",
       "      <th>30</th>\n",
       "      <td>Volt.</td>\n",
       "      <td>Queen.</td>\n",
       "      <td>1</td>\n",
       "    </tr>\n",
       "    <tr>\n",
       "      <th>33</th>\n",
       "      <td>Ros.</td>\n",
       "      <td>Ham.</td>\n",
       "      <td>29</td>\n",
       "    </tr>\n",
       "    <tr>\n",
       "      <th>34</th>\n",
       "      <td>Ros.</td>\n",
       "      <td>Pol.</td>\n",
       "      <td>3</td>\n",
       "    </tr>\n",
       "    <tr>\n",
       "      <th>36</th>\n",
       "      <td>Ros.</td>\n",
       "      <td>Guil.</td>\n",
       "      <td>8</td>\n",
       "    </tr>\n",
       "    <tr>\n",
       "      <th>38</th>\n",
       "      <td>Ros.</td>\n",
       "      <td>Queen.</td>\n",
       "      <td>1</td>\n",
       "    </tr>\n",
       "    <tr>\n",
       "      <th>40</th>\n",
       "      <td>Guil.</td>\n",
       "      <td>King.</td>\n",
       "      <td>1</td>\n",
       "    </tr>\n",
       "    <tr>\n",
       "      <th>41</th>\n",
       "      <td>Guil.</td>\n",
       "      <td>Ham.</td>\n",
       "      <td>17</td>\n",
       "    </tr>\n",
       "    <tr>\n",
       "      <th>42</th>\n",
       "      <td>Guil.</td>\n",
       "      <td>Pol.</td>\n",
       "      <td>2</td>\n",
       "    </tr>\n",
       "    <tr>\n",
       "      <th>44</th>\n",
       "      <td>Guil.</td>\n",
       "      <td>Ros.</td>\n",
       "      <td>14</td>\n",
       "    </tr>\n",
       "    <tr>\n",
       "      <th>46</th>\n",
       "      <td>Guil.</td>\n",
       "      <td>Queen.</td>\n",
       "      <td>1</td>\n",
       "    </tr>\n",
       "    <tr>\n",
       "      <th>50</th>\n",
       "      <td>Rey.</td>\n",
       "      <td>Pol.</td>\n",
       "      <td>11</td>\n",
       "    </tr>\n",
       "    <tr>\n",
       "      <th>56</th>\n",
       "      <td>Queen.</td>\n",
       "      <td>King.</td>\n",
       "      <td>7</td>\n",
       "    </tr>\n",
       "    <tr>\n",
       "      <th>58</th>\n",
       "      <td>Queen.</td>\n",
       "      <td>Pol.</td>\n",
       "      <td>4</td>\n",
       "    </tr>\n",
       "    <tr>\n",
       "      <th>60</th>\n",
       "      <td>Queen.</td>\n",
       "      <td>Ros.</td>\n",
       "      <td>1</td>\n",
       "    </tr>\n",
       "    <tr>\n",
       "      <th>61</th>\n",
       "      <td>Queen.</td>\n",
       "      <td>Guil.</td>\n",
       "      <td>2</td>\n",
       "    </tr>\n",
       "    <tr>\n",
       "      <th>64</th>\n",
       "      <td>Oph.</td>\n",
       "      <td>King.</td>\n",
       "      <td>1</td>\n",
       "    </tr>\n",
       "    <tr>\n",
       "      <th>66</th>\n",
       "      <td>Oph.</td>\n",
       "      <td>Pol.</td>\n",
       "      <td>7</td>\n",
       "    </tr>\n",
       "    <tr>\n",
       "      <th>70</th>\n",
       "      <td>Oph.</td>\n",
       "      <td>Rey.</td>\n",
       "      <td>2</td>\n",
       "    </tr>\n",
       "  </tbody>\n",
       "</table>\n",
       "</div>"
      ],
      "text/plain": [
       "   Person 1 Person 2  weight\n",
       "1     King.     Pol.       9\n",
       "3     King.     Ros.       1\n",
       "4     King.    Guil.       2\n",
       "6     King.   Queen.       4\n",
       "7     King.     Oph.       1\n",
       "8      Ham.    King.       1\n",
       "9      Ham.     Pol.      26\n",
       "11     Ham.     Ros.      22\n",
       "12     Ham.    Guil.      10\n",
       "14     Ham.   Queen.       1\n",
       "16     Pol.    King.      10\n",
       "17     Pol.     Ham.      26\n",
       "19     Pol.     Ros.       1\n",
       "20     Pol.    Guil.       2\n",
       "21     Pol.     Rey.      13\n",
       "22     Pol.   Queen.       6\n",
       "23     Pol.     Oph.       4\n",
       "24    Volt.    King.       1\n",
       "30    Volt.   Queen.       1\n",
       "33     Ros.     Ham.      29\n",
       "34     Ros.     Pol.       3\n",
       "36     Ros.    Guil.       8\n",
       "38     Ros.   Queen.       1\n",
       "40    Guil.    King.       1\n",
       "41    Guil.     Ham.      17\n",
       "42    Guil.     Pol.       2\n",
       "44    Guil.     Ros.      14\n",
       "46    Guil.   Queen.       1\n",
       "50     Rey.     Pol.      11\n",
       "56   Queen.    King.       7\n",
       "58   Queen.     Pol.       4\n",
       "60   Queen.     Ros.       1\n",
       "61   Queen.    Guil.       2\n",
       "64     Oph.    King.       1\n",
       "66     Oph.     Pol.       7\n",
       "70     Oph.     Rey.       2"
      ]
     },
     "execution_count": 43,
     "metadata": {},
     "output_type": "execute_result"
    }
   ],
   "source": [
    "relationship(['King.', 'Ham.', 'Pol.', 'Volt.', 'Ros.', 'Guil.', 'Rey.',\n",
    "        'Queen.', 'Oph.'],act=act2,n=1004)"
   ]
  },
  {
   "cell_type": "code",
   "execution_count": null,
   "id": "0ee19606-72dd-4b3c-b86c-c354d5f8c7a3",
   "metadata": {},
   "outputs": [],
   "source": []
  },
  {
   "cell_type": "code",
   "execution_count": 44,
   "id": "56c851b4-cdac-42d9-acf7-fa6dcbcd45c1",
   "metadata": {},
   "outputs": [],
   "source": [
    "#### ACT III.\n",
    "act3_df=relationship(['King.', 'Ham.', 'Pol.', 'Hor.', 'Ros.', 'Guil.', 'Queen.', 'Oph.',\n",
    "        'Ghost.'],act=act3,n=1792)"
   ]
  },
  {
   "cell_type": "code",
   "execution_count": 45,
   "id": "2415a873-be17-49b4-9e0a-a3a009c393c6",
   "metadata": {},
   "outputs": [],
   "source": [
    "#### ACT IV.\n",
    "act4_df=relationship(['King.', 'Ham.', 'Hor.', 'Laer.', 'Ros.', 'Guil.', 'Gent.',\n",
    "        'Capt.', 'Queen.', 'Oph.'],act=act4,n=2816)"
   ]
  },
  {
   "cell_type": "code",
   "execution_count": 46,
   "id": "4aeefdd8-1c74-4df2-a178-5cdc584d002e",
   "metadata": {
    "jp-MarkdownHeadingCollapsed": true,
    "tags": []
   },
   "outputs": [],
   "source": [
    "#### ACT V.\n",
    "act5_df=relationship(['King.', 'Ham.', 'Hor.', 'Laer.', 'Osr.', 'Priest.', 'Clowns',\n",
    "        'Fort.', 'Ambassador.', 'Queen.'],act=act5,n=3645)"
   ]
  },
  {
   "cell_type": "code",
   "execution_count": 47,
   "id": "8bf7a190-dd43-4b42-93ea-35679fdd0f2d",
   "metadata": {},
   "outputs": [],
   "source": [
    "act5_df=relationship(['King.', 'Ham.', 'Hor.', 'Laer.', 'Osr.', 'Priest.', 'Clowns',\n",
    "        'Fort.', 'Ambassador.', 'Queen.'],act=act5,n=3645)"
   ]
  },
  {
   "cell_type": "code",
   "execution_count": 57,
   "id": "a7c9c27c-31e8-44db-80a2-6c1a96e8f271",
   "metadata": {},
   "outputs": [],
   "source": [
    "\n",
    "\n",
    "from pathlib import Path  \n",
    "filepath = Path('relationship/act5_df.csv')  \n",
    "filepath.parent.mkdir(parents=True, exist_ok=True)  \n",
    "act5_df.to_csv(filepath) "
   ]
  },
  {
   "cell_type": "markdown",
   "id": "5b382842-d827-4176-b92a-95a1619c147c",
   "metadata": {},
   "source": [
    "# Visualize each Act as network "
   ]
  },
  {
   "cell_type": "code",
   "execution_count": 48,
   "id": "1ef5e89d-d4d2-4010-8e42-e2ca70b04433",
   "metadata": {},
   "outputs": [],
   "source": [
    "G1 = nx.from_pandas_edgelist(act1_df,'Person 1',\"Person 2\", edge_attr = \"weight\", create_using = nx.Graph())\n",
    "G2 = nx.from_pandas_edgelist(act2_df,'Person 1',\"Person 2\", edge_attr = \"weight\", create_using = nx.Graph())\n",
    "G3 = nx.from_pandas_edgelist(act3_df,'Person 1',\"Person 2\", edge_attr = \"weight\", create_using = nx.Graph())\n",
    "G4 = nx.from_pandas_edgelist(act4_df,'Person 1',\"Person 2\", edge_attr = \"weight\", create_using = nx.Graph())\n",
    "G5 = nx.from_pandas_edgelist(act5_df,'Person 1',\"Person 2\", edge_attr = \"weight\", create_using = nx.Graph())\n"
   ]
  },
  {
   "cell_type": "code",
   "execution_count": 59,
   "id": "52185832-c7e6-4d7a-af88-e875153bb34b",
   "metadata": {},
   "outputs": [
    {
     "data": {
      "image/png": "[encoded data removed]",
      "text/plain": [
       "<Figure size 720x360 with 1 Axes>"
      ]
     },
     "metadata": {},
     "output_type": "display_data"
    },
    {
     "data": {
      "text/plain": [
       "<Figure size 432x288 with 0 Axes>"
      ]
     },
     "metadata": {},
     "output_type": "display_data"
    },
    {
     "data": {
      "image/png": "[encoded data removed]",
      "text/plain": [
       "<Figure size 720x360 with 1 Axes>"
      ]
     },
     "metadata": {},
     "output_type": "display_data"
    },
    {
     "data": {
      "text/plain": [
       "<Figure size 432x288 with 0 Axes>"
      ]
     },
     "metadata": {},
     "output_type": "display_data"
    },
    {
     "data": {
      "image/png": "[encoded data removed]",
      "text/plain": [
       "<Figure size 720x360 with 1 Axes>"
      ]
     },
     "metadata": {},
     "output_type": "display_data"
    },
    {
     "data": {
      "text/plain": [
       "<Figure size 432x288 with 0 Axes>"
      ]
     },
     "metadata": {},
     "output_type": "display_data"
    },
    {
     "data": {
      "image/png": "[encoded data removed]",
      "text/plain": [
       "<Figure size 720x360 with 1 Axes>"
      ]
     },
     "metadata": {},
     "output_type": "display_data"
    },
    {
     "data": {
      "text/plain": [
       "<Figure size 432x288 with 0 Axes>"
      ]
     },
     "metadata": {},
     "output_type": "display_data"
    },
    {
     "data": {
      "image/png": "[encoded data removed]",
      "text/plain": [
       "<Figure size 720x360 with 1 Axes>"
      ]
     },
     "metadata": {},
     "output_type": "display_data"
    },
    {
     "data": {
      "text/plain": [
       "<Figure size 432x288 with 0 Axes>"
      ]
     },
     "metadata": {},
     "output_type": "display_data"
    }
   ],
   "source": [
    "for G in [G1,G2,G3,G4,G5]:\n",
    "    plt.figure(figsize=(10,5)) \n",
    "    nx.draw_networkx(G,with_labels=True,node_size=700)\n",
    "    plt.title(G)\n",
    "    plt.show()\n"
   ]
  },
  {
   "cell_type": "code",
   "execution_count": 50,
   "id": "82e27277-ea3d-4f1b-b5c7-1683be0925bc",
   "metadata": {},
   "outputs": [
    {
     "data": {
      "text/html": [
       "<div>\n",
       "<style scoped>\n",
       "    .dataframe tbody tr th:only-of-type {\n",
       "        vertical-align: middle;\n",
       "    }\n",
       "\n",
       "    .dataframe tbody tr th {\n",
       "        vertical-align: top;\n",
       "    }\n",
       "\n",
       "    .dataframe thead th {\n",
       "        text-align: right;\n",
       "    }\n",
       "</style>\n",
       "<table border=\"1\" class=\"dataframe\">\n",
       "  <thead>\n",
       "    <tr style=\"text-align: right;\">\n",
       "      <th></th>\n",
       "      <th>Unnamed: 0</th>\n",
       "      <th>Player</th>\n",
       "      <th>Identity_1</th>\n",
       "      <th>Identity_2</th>\n",
       "      <th>Alias</th>\n",
       "    </tr>\n",
       "  </thead>\n",
       "  <tbody>\n",
       "    <tr>\n",
       "      <th>0</th>\n",
       "      <td>0</td>\n",
       "      <td>Claudius</td>\n",
       "      <td>King of Denmark</td>\n",
       "      <td>NaN</td>\n",
       "      <td>King.</td>\n",
       "    </tr>\n",
       "    <tr>\n",
       "      <th>1</th>\n",
       "      <td>1</td>\n",
       "      <td>Marcellus</td>\n",
       "      <td>Officer</td>\n",
       "      <td>NaN</td>\n",
       "      <td>Mar.</td>\n",
       "    </tr>\n",
       "    <tr>\n",
       "      <th>2</th>\n",
       "      <td>2</td>\n",
       "      <td>Hamlet</td>\n",
       "      <td>son to the former</td>\n",
       "      <td>and nephew to the present king</td>\n",
       "      <td>Ham.</td>\n",
       "    </tr>\n",
       "    <tr>\n",
       "      <th>3</th>\n",
       "      <td>3</td>\n",
       "      <td>Polonius</td>\n",
       "      <td>Lord Chamberlain</td>\n",
       "      <td>NaN</td>\n",
       "      <td>Pol.</td>\n",
       "    </tr>\n",
       "    <tr>\n",
       "      <th>4</th>\n",
       "      <td>4</td>\n",
       "      <td>Horatio</td>\n",
       "      <td>friend to Hamlet</td>\n",
       "      <td>NaN</td>\n",
       "      <td>Hor.</td>\n",
       "    </tr>\n",
       "    <tr>\n",
       "      <th>5</th>\n",
       "      <td>5</td>\n",
       "      <td>Laertes</td>\n",
       "      <td>son to Polonius</td>\n",
       "      <td>NaN</td>\n",
       "      <td>Laer.</td>\n",
       "    </tr>\n",
       "    <tr>\n",
       "      <th>6</th>\n",
       "      <td>6</td>\n",
       "      <td>Voltemand</td>\n",
       "      <td>courtier</td>\n",
       "      <td>NaN</td>\n",
       "      <td>Volt.</td>\n",
       "    </tr>\n",
       "    <tr>\n",
       "      <th>7</th>\n",
       "      <td>7</td>\n",
       "      <td>Cornelius</td>\n",
       "      <td>courtier</td>\n",
       "      <td>NaN</td>\n",
       "      <td>Cor.</td>\n",
       "    </tr>\n",
       "    <tr>\n",
       "      <th>8</th>\n",
       "      <td>8</td>\n",
       "      <td>Rosencrantz</td>\n",
       "      <td>courtier</td>\n",
       "      <td>NaN</td>\n",
       "      <td>Ros.</td>\n",
       "    </tr>\n",
       "    <tr>\n",
       "      <th>9</th>\n",
       "      <td>9</td>\n",
       "      <td>Guildenstern</td>\n",
       "      <td>courtier</td>\n",
       "      <td>NaN</td>\n",
       "      <td>Guil.</td>\n",
       "    </tr>\n",
       "    <tr>\n",
       "      <th>10</th>\n",
       "      <td>10</td>\n",
       "      <td>Osric</td>\n",
       "      <td>courtier</td>\n",
       "      <td>NaN</td>\n",
       "      <td>Osr.</td>\n",
       "    </tr>\n",
       "    <tr>\n",
       "      <th>11</th>\n",
       "      <td>11</td>\n",
       "      <td>A Gentleman</td>\n",
       "      <td>courtier</td>\n",
       "      <td>NaN</td>\n",
       "      <td>Gent.</td>\n",
       "    </tr>\n",
       "    <tr>\n",
       "      <th>12</th>\n",
       "      <td>12</td>\n",
       "      <td>A Priest</td>\n",
       "      <td>NaN</td>\n",
       "      <td>NaN</td>\n",
       "      <td>Priest.</td>\n",
       "    </tr>\n",
       "    <tr>\n",
       "      <th>13</th>\n",
       "      <td>13</td>\n",
       "      <td>Marcellus</td>\n",
       "      <td>officer</td>\n",
       "      <td>NaN</td>\n",
       "      <td>Mar.</td>\n",
       "    </tr>\n",
       "    <tr>\n",
       "      <th>14</th>\n",
       "      <td>14</td>\n",
       "      <td>Bernardo</td>\n",
       "      <td>officer</td>\n",
       "      <td>NaN</td>\n",
       "      <td>Ber.</td>\n",
       "    </tr>\n",
       "    <tr>\n",
       "      <th>15</th>\n",
       "      <td>15</td>\n",
       "      <td>Francisco</td>\n",
       "      <td>NaN</td>\n",
       "      <td>NaN</td>\n",
       "      <td>Fran.</td>\n",
       "    </tr>\n",
       "    <tr>\n",
       "      <th>16</th>\n",
       "      <td>16</td>\n",
       "      <td>Reynaldo</td>\n",
       "      <td>servant to Polonius</td>\n",
       "      <td>NaN</td>\n",
       "      <td>Rey.</td>\n",
       "    </tr>\n",
       "    <tr>\n",
       "      <th>17</th>\n",
       "      <td>18</td>\n",
       "      <td>Two Clowns</td>\n",
       "      <td>gravediggers</td>\n",
       "      <td>NaN</td>\n",
       "      <td>Clowns</td>\n",
       "    </tr>\n",
       "    <tr>\n",
       "      <th>18</th>\n",
       "      <td>19</td>\n",
       "      <td>Fortinbras</td>\n",
       "      <td>Prince of Norway</td>\n",
       "      <td>NaN</td>\n",
       "      <td>Fort.</td>\n",
       "    </tr>\n",
       "    <tr>\n",
       "      <th>19</th>\n",
       "      <td>20</td>\n",
       "      <td>A Norwegian Captain</td>\n",
       "      <td>NaN</td>\n",
       "      <td>NaN</td>\n",
       "      <td>Capt.</td>\n",
       "    </tr>\n",
       "    <tr>\n",
       "      <th>20</th>\n",
       "      <td>21</td>\n",
       "      <td>English Ambassadors</td>\n",
       "      <td>NaN</td>\n",
       "      <td>NaN</td>\n",
       "      <td>Ambassador.</td>\n",
       "    </tr>\n",
       "    <tr>\n",
       "      <th>21</th>\n",
       "      <td>23</td>\n",
       "      <td>Getrude</td>\n",
       "      <td>Queen of Denmark</td>\n",
       "      <td>mother to Hamlet</td>\n",
       "      <td>Queen.</td>\n",
       "    </tr>\n",
       "    <tr>\n",
       "      <th>22</th>\n",
       "      <td>24</td>\n",
       "      <td>Ophelia</td>\n",
       "      <td>daughter to Polonius</td>\n",
       "      <td>NaN</td>\n",
       "      <td>Oph.</td>\n",
       "    </tr>\n",
       "    <tr>\n",
       "      <th>23</th>\n",
       "      <td>26</td>\n",
       "      <td>s Father</td>\n",
       "      <td>NaN</td>\n",
       "      <td>NaN</td>\n",
       "      <td>Ghost.</td>\n",
       "    </tr>\n",
       "  </tbody>\n",
       "</table>\n",
       "</div>"
      ],
      "text/plain": [
       "    Unnamed: 0                 Player             Identity_1  \\\n",
       "0            0               Claudius        King of Denmark   \n",
       "1            1              Marcellus                Officer   \n",
       "2            2                 Hamlet      son to the former   \n",
       "3            3               Polonius       Lord Chamberlain   \n",
       "4            4                Horatio       friend to Hamlet   \n",
       "5            5                Laertes        son to Polonius   \n",
       "6            6              Voltemand               courtier   \n",
       "7            7              Cornelius               courtier   \n",
       "8            8            Rosencrantz               courtier   \n",
       "9            9           Guildenstern               courtier   \n",
       "10          10                  Osric               courtier   \n",
       "11          11            A Gentleman               courtier   \n",
       "12          12               A Priest                    NaN   \n",
       "13          13              Marcellus                officer   \n",
       "14          14               Bernardo                officer   \n",
       "15          15              Francisco                    NaN   \n",
       "16          16               Reynaldo    servant to Polonius   \n",
       "17          18             Two Clowns           gravediggers   \n",
       "18          19             Fortinbras       Prince of Norway   \n",
       "19          20    A Norwegian Captain                    NaN   \n",
       "20          21    English Ambassadors                    NaN   \n",
       "21          23                Getrude       Queen of Denmark   \n",
       "22          24                Ophelia   daughter to Polonius   \n",
       "23          26               s Father                    NaN   \n",
       "\n",
       "                         Identity_2        Alias  \n",
       "0                               NaN        King.  \n",
       "1                               NaN         Mar.  \n",
       "2    and nephew to the present king         Ham.  \n",
       "3                               NaN         Pol.  \n",
       "4                               NaN         Hor.  \n",
       "5                               NaN        Laer.  \n",
       "6                               NaN        Volt.  \n",
       "7                               NaN         Cor.  \n",
       "8                               NaN         Ros.  \n",
       "9                               NaN        Guil.  \n",
       "10                              NaN         Osr.  \n",
       "11                              NaN        Gent.  \n",
       "12                              NaN      Priest.  \n",
       "13                              NaN         Mar.  \n",
       "14                              NaN         Ber.  \n",
       "15                              NaN        Fran.  \n",
       "16                              NaN         Rey.  \n",
       "17                              NaN       Clowns  \n",
       "18                              NaN        Fort.  \n",
       "19                              NaN        Capt.  \n",
       "20                              NaN  Ambassador.  \n",
       "21                 mother to Hamlet       Queen.  \n",
       "22                              NaN         Oph.  \n",
       "23                              NaN       Ghost.  "
      ]
     },
     "execution_count": 50,
     "metadata": {},
     "output_type": "execute_result"
    }
   ],
   "source": [
    "pd.read_csv(\"folder/character_identity_df.csv\")"
   ]
  },
  {
   "cell_type": "code",
   "execution_count": null,
   "id": "27f824d2-7625-4afc-be6a-a60cae40d1b3",
   "metadata": {},
   "outputs": [],
   "source": []
  },
  {
   "cell_type": "code",
   "execution_count": null,
   "id": "20f73396-8eb3-4384-a163-3d3b1682cdea",
   "metadata": {},
   "outputs": [],
   "source": []
  },
  {
   "cell_type": "code",
   "execution_count": 51,
   "id": "20db2ec7-6041-492b-b8fb-e99a8889092d",
   "metadata": {},
   "outputs": [
    {
     "data": {
      "text/plain": [
       "['King.',\n",
       " 'Mar.',\n",
       " 'Ham.',\n",
       " 'Pol.',\n",
       " 'Hor.',\n",
       " 'Laer.',\n",
       " 'Volt.',\n",
       " 'Cor.',\n",
       " 'Ros.',\n",
       " 'Guil.',\n",
       " 'Osr.',\n",
       " 'Gent.',\n",
       " 'Priest.',\n",
       " 'Mar.',\n",
       " 'Ber.',\n",
       " 'Fran.',\n",
       " 'Rey.',\n",
       " 'Clowns',\n",
       " 'Fort.',\n",
       " 'Capt.',\n",
       " 'Ambassador.',\n",
       " 'Queen.',\n",
       " 'Oph.',\n",
       " 'Ghost.']"
      ]
     },
     "execution_count": 51,
     "metadata": {},
     "output_type": "execute_result"
    }
   ],
   "source": [
    "characters[\"Alias\"].tolist()"
   ]
  },
  {
   "cell_type": "code",
   "execution_count": 60,
   "id": "4fb64bd7-3e4e-4270-a141-8bd0382dbbdf",
   "metadata": {},
   "outputs": [
    {
     "data": {
      "image/png": "[encoded data removed]",
      "text/plain": [
       "<Figure size 1440x1440 with 1 Axes>"
      ]
     },
     "metadata": {},
     "output_type": "display_data"
    },
    {
     "data": {
      "text/plain": [
       "<Figure size 432x288 with 0 Axes>"
      ]
     },
     "metadata": {},
     "output_type": "display_data"
    }
   ],
   "source": [
    "G0 = nx.from_pandas_edgelist(act0_df,'Person 1',\"Person 2\", edge_attr = \"weight\", create_using = nx.Graph())\n",
    "\n",
    "plt.figure(figsize=(20,20)) \n",
    "nx.draw_networkx(G0,with_labels=True,node_size=700)\n",
    "plt.title(G0)\n",
    "plt.show()\n",
    "plt.savefig('Graph.png')"
   ]
  },
  {
   "cell_type": "code",
   "execution_count": 61,
   "id": "47d1a8d0-7a13-49be-b6ef-0e2f586597af",
   "metadata": {},
   "outputs": [
    {
     "data": {
      "text/plain": [
       "<Figure size 432x288 with 0 Axes>"
      ]
     },
     "metadata": {},
     "output_type": "display_data"
    }
   ],
   "source": []
  },
  {
   "cell_type": "code",
   "execution_count": null,
   "id": "0b90eea2-4a65-40ff-a4ee-07857ee502e4",
   "metadata": {},
   "outputs": [],
   "source": []
  }
 ],
 "metadata": {
  "kernelspec": {
   "display_name": "Python 3 (ipykernel)",
   "language": "python",
   "name": "python3"
  },
  "language_info": {
   "codemirror_mode": {
    "name": "ipython",
    "version": 3
   },
   "file_extension": ".py",
   "mimetype": "text/x-python",
   "name": "python",
   "nbconvert_exporter": "python",
   "pygments_lexer": "ipython3",
   "version": "3.9.12"
  }
 },
 "nbformat": 4,
 "nbformat_minor": 5
}
